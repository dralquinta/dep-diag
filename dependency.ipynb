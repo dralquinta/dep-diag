{
 "cells": [
  {
   "cell_type": "code",
   "execution_count": 1,
   "metadata": {},
   "outputs": [
    {
     "name": "stderr",
     "output_type": "stream",
     "text": [
      "/Users/dralquinta/Documents/DevOps/mati/dep-diag/venv/lib/python3.11/site-packages/dash_bootstrap_components/_table.py:5: UserWarning: \n",
      "The dash_html_components package is deprecated. Please replace\n",
      "`import dash_html_components as html` with `from dash import html`\n",
      "  import dash_html_components as html\n"
     ]
    }
   ],
   "source": [
    "import pandas as pd\n",
    "from jaal import Jaal"
   ]
  },
  {
   "cell_type": "code",
   "execution_count": 2,
   "metadata": {},
   "outputs": [],
   "source": [
    "sz_file_path = \"./dump.csv\"\n",
    "sz_file_csv = pd.read_csv(sz_file_path, usecols=[\n",
    "    'LocalVMName', 'RemoteVMName', 'ConnectionCount'], header=0)"
   ]
  },
  {
   "cell_type": "code",
   "execution_count": 3,
   "metadata": {},
   "outputs": [],
   "source": [
    "# Rename columns for edges\n",
    "df_edges = sz_file_csv.rename(columns={\n",
    "    \"LocalVMName\": \"from\",\n",
    "    \"RemoteVMName\": \"to\",\n",
    "    \"ConnectionCount\": \"weight\"\n",
    "})"
   ]
  },
  {
   "cell_type": "code",
   "execution_count": 4,
   "metadata": {},
   "outputs": [],
   "source": [
    "# Ensure 'from' and 'to' columns are strings\n",
    "df_edges['from'] = df_edges['from'].astype(str)\n",
    "df_edges['to'] = df_edges['to'].astype(str)\n",
    "\n",
    "# Group by 'from' and 'to' to aggregate connection counts\n",
    "df_grouped = df_edges.groupby(['from', 'to'], as_index=False)['weight'].sum()\n",
    "\n",
    "# Create nodes dataframe from 'from' and 'to' columns\n",
    "source_nodes = df_edges[['from']].rename(columns={'from': 'id'})\n",
    "target_nodes = df_edges[['to']].rename(columns={'to': 'id'})\n",
    "all_nodes = pd.concat([source_nodes, target_nodes]).drop_duplicates().reset_index(drop=True)\n",
    "\n",
    "# Add additional attributes for nodes\n",
    "all_nodes['label'] = all_nodes['id']\n",
    "all_nodes['group'] = 'Group1'  # Example group, you can customize it as needed\n",
    "\n",
    "# Create a node weight dataframe\n",
    "node_weights = df_edges.groupby('from', as_index=False)['weight'].sum()\n",
    "node_weights.columns = ['id', 'weight']\n",
    "\n",
    "# Merge node weights with the all_nodes dataframe\n",
    "df_nodes = all_nodes.merge(node_weights, on='id', how='left').fillna(1)\n",
    "\n",
    "# Customize the edges with tooltips\n",
    "df_grouped['title'] = df_grouped.apply(\n",
    "    lambda row: f\"Connection Count: {row['weight']}\", axis=1)"
   ]
  },
  {
   "cell_type": "code",
   "execution_count": 5,
   "metadata": {},
   "outputs": [
    {
     "name": "stdout",
     "output_type": "stream",
     "text": [
      "Parsing the data...Done\n"
     ]
    },
    {
     "data": {
      "text/html": [
       "\n",
       "        <iframe\n",
       "            width=\"100%\"\n",
       "            height=\"650\"\n",
       "            src=\"http://127.0.0.1:8050/\"\n",
       "            frameborder=\"0\"\n",
       "            allowfullscreen\n",
       "            \n",
       "        ></iframe>\n",
       "        "
      ],
      "text/plain": [
       "<IPython.lib.display.IFrame at 0x124753c10>"
      ]
     },
     "metadata": {},
     "output_type": "display_data"
    },
    {
     "name": "stdout",
     "output_type": "stream",
     "text": [
      "No trigger\n"
     ]
    }
   ],
   "source": [
    "\n",
    "# Define Jaal visualization options\n",
    "vis_opts = {\n",
    "    'height': '600px',\n",
    "    'physics': {\n",
    "        'enabled': False\n",
    "    }\n",
    "}\n",
    "\n",
    "# Initialize and plot using Jaal\n",
    "Jaal(df_grouped, df_nodes).plot(vis_opts=vis_opts)"
   ]
  },
  {
   "cell_type": "markdown",
   "metadata": {},
   "source": []
  }
 ],
 "metadata": {
  "kernelspec": {
   "display_name": "venv",
   "language": "python",
   "name": "python3"
  },
  "language_info": {
   "codemirror_mode": {
    "name": "ipython",
    "version": 3
   },
   "file_extension": ".py",
   "mimetype": "text/x-python",
   "name": "python",
   "nbconvert_exporter": "python",
   "pygments_lexer": "ipython3",
   "version": "3.11.6"
  }
 },
 "nbformat": 4,
 "nbformat_minor": 2
}

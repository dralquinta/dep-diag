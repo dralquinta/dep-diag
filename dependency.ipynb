{
 "cells": [
  {
   "cell_type": "code",
   "execution_count": 1,
   "metadata": {},
   "outputs": [
    {
     "name": "stderr",
     "output_type": "stream",
     "text": [
      "/Users/dralquinta/Documents/DevOps/dep-diag/venv/lib/python3.11/site-packages/dash_bootstrap_components/_table.py:5: UserWarning: \n",
      "The dash_html_components package is deprecated. Please replace\n",
      "`import dash_html_components as html` with `from dash import html`\n",
      "  import dash_html_components as html\n"
     ]
    }
   ],
   "source": [
    "import pandas as pd\n",
    "from jaal import Jaal\n",
    "from jaal.datasets import load_got"
   ]
  },
  {
   "cell_type": "code",
   "execution_count": 4,
   "metadata": {},
   "outputs": [
    {
     "name": "stderr",
     "output_type": "stream",
     "text": [
      "/var/folders/xd/clxf751s3nv4j8554y2wzz9w017mtm/T/ipykernel_27720/3865116709.py:2: DtypeWarning: Columns (9) have mixed types. Specify dtype option on import or set low_memory=False.\n",
      "  sz_file_csv = pd.read_csv(sz_file_path,usecols=['initiatingDeviceName','receivingDeviceName','receivingIpAddress','receivingPort','connectionCount'],\n"
     ]
    }
   ],
   "source": [
    "sz_file_path = \"./Dependency.csv\"\n",
    "sz_file_csv = pd.read_csv(sz_file_path,usecols=['initiatingDeviceName','receivingDeviceName','receivingIpAddress','receivingPort','connectionCount'],\n",
    "                          header=0,\n",
    "                        #dtype={'initiatingDeviceName': 'str', 'receivingDeviceName': 'str', 'receivingIpAddress': 'str','receivingPort': int, 'connectionCount': int }\n",
    "                        )"
   ]
  },
  {
   "cell_type": "code",
   "execution_count": 5,
   "metadata": {},
   "outputs": [],
   "source": [
    "df = sz_file_csv.rename(\n",
    "    columns={\n",
    "        \"initiatingDeviceName\": \"from\",\n",
    "        \"receivingIpAddress\": \"to\",\n",
    "        \"connectionCount\": \"weight\"\n",
    "    }\n",
    ")"
   ]
  },
  {
   "cell_type": "code",
   "execution_count": 6,
   "metadata": {},
   "outputs": [],
   "source": [
    "df_grouped = df.groupby(['from','to'], as_index=False)['weight'].sum()"
   ]
  },
  {
   "cell_type": "code",
   "execution_count": 7,
   "metadata": {},
   "outputs": [],
   "source": [
    "df = sz_file_csv.rename(\n",
    "    columns={\n",
    "        \"initiatingDeviceName\": \"id\",\n",
    "        \"receivingIpAddress\": \"to\",\n",
    "        \"connectionCount\": \"weight\",\n",
    "\n",
    "    }\n",
    ")\n",
    "df_nodes = df.groupby(['id'], as_index=False)['weight'].sum()"
   ]
  },
  {
   "cell_type": "code",
   "execution_count": 8,
   "metadata": {},
   "outputs": [
    {
     "name": "stdout",
     "output_type": "stream",
     "text": [
      "Parsing the data...Done\n"
     ]
    },
    {
     "data": {
      "text/html": [
       "\n",
       "        <iframe\n",
       "            width=\"100%\"\n",
       "            height=\"650\"\n",
       "            src=\"http://127.0.0.1:8050/\"\n",
       "            frameborder=\"0\"\n",
       "            allowfullscreen\n",
       "            \n",
       "        ></iframe>\n",
       "        "
      ],
      "text/plain": [
       "<IPython.lib.display.IFrame at 0x107b54890>"
      ]
     },
     "metadata": {},
     "output_type": "display_data"
    },
    {
     "name": "stdout",
     "output_type": "stream",
     "text": [
      "Parsing the data...Done\n"
     ]
    },
    {
     "data": {
      "text/html": [
       "\n",
       "        <iframe\n",
       "            width=\"100%\"\n",
       "            height=\"650\"\n",
       "            src=\"http://127.0.0.1:8071/\"\n",
       "            frameborder=\"0\"\n",
       "            allowfullscreen\n",
       "            \n",
       "        ></iframe>\n",
       "        "
      ],
      "text/plain": [
       "<IPython.lib.display.IFrame at 0x1412f4390>"
      ]
     },
     "metadata": {},
     "output_type": "display_data"
    },
    {
     "name": "stdout",
     "output_type": "stream",
     "text": [
      "No trigger\n"
     ]
    }
   ],
   "source": [
    "Jaal(df_grouped,df_nodes).plot(vis_opts={'height': '600px', # change height\n",
    "                                     'interaction':{'hover': True}, # turn on-off the hover\n",
    "                                    'physics':{'stabilization':{'iterations': 100}}})   # Con Fisica\n",
    "                                    #'physics':{'enabled': False}})                     # Estatico\n",
    "\n",
    "Jaal(df_grouped).plot(port=8071)"
   ]
  }
 ],
 "metadata": {
  "kernelspec": {
   "display_name": "venv",
   "language": "python",
   "name": "python3"
  },
  "language_info": {
   "codemirror_mode": {
    "name": "ipython",
    "version": 3
   },
   "file_extension": ".py",
   "mimetype": "text/x-python",
   "name": "python",
   "nbconvert_exporter": "python",
   "pygments_lexer": "ipython3",
   "version": "3.11.6"
  }
 },
 "nbformat": 4,
 "nbformat_minor": 2
}

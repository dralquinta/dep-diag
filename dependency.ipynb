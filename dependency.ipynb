{
 "cells": [
  {
   "cell_type": "code",
   "execution_count": 73,
   "metadata": {},
   "outputs": [],
   "source": [
    "import pandas as pd\n",
    "from jaal import Jaal\n",
    "from jaal.datasets import load_got\n",
    "import matplotlib.pyplot as plt"
   ]
  },
  {
   "cell_type": "code",
   "execution_count": 74,
   "metadata": {},
   "outputs": [],
   "source": [
    "sz_file_path = \"./dump.csv\"\n",
    "sz_file_csv = pd.read_csv(sz_file_path,usecols=['initiatingDeviceName','receivingDeviceName', 'connectionCount'],\n",
    "                          header=0,\n",
    "                       \n",
    "                        )"
   ]
  },
  {
   "cell_type": "code",
   "execution_count": 75,
   "metadata": {},
   "outputs": [],
   "source": [
    "df = sz_file_csv.rename(\n",
    "    columns={\n",
    "        \"initiatingDeviceName\": \"from\",\n",
    "        \"receivingDeviceName\": \"to\",\n",
    "        \"connectionCount\": \"weight\"\n",
    "    }\n",
    ")"
   ]
  },
  {
   "cell_type": "code",
   "execution_count": 76,
   "metadata": {},
   "outputs": [],
   "source": [
    "df_grouped = df.groupby(['from','to'], as_index=False)['weight'].sum()"
   ]
  },
  {
   "cell_type": "code",
   "execution_count": 77,
   "metadata": {},
   "outputs": [],
   "source": [
    "df = sz_file_csv.rename(\n",
    "    columns={\n",
    "        \"initiatingDeviceName\": \"id\",\n",
    "        \"receivingDeviceName\": \"to\",\n",
    "        \"connectionCount\": \"weight\",\n",
    "\n",
    "    }\n",
    ")\n",
    "df_nodes = df.groupby(['id'], as_index=False)['weight'].sum()"
   ]
  },
  {
   "cell_type": "code",
   "execution_count": 79,
   "metadata": {},
   "outputs": [
    {
     "ename": "NameError",
     "evalue": "name 'edge_df' is not defined",
     "output_type": "error",
     "traceback": [
      "\u001b[0;31m---------------------------------------------------------------------------\u001b[0m",
      "\u001b[0;31mNameError\u001b[0m                                 Traceback (most recent call last)",
      "Cell \u001b[0;32mIn[79], line 7\u001b[0m\n\u001b[1;32m      1\u001b[0m \u001b[38;5;66;03m#Jaal(df_grouped).plot(port=8071)\u001b[39;00m\n\u001b[1;32m      2\u001b[0m \u001b[38;5;66;03m#Jaal(df_grouped,df_nodes).plot(vis_opts={'height': '600px', # change height\u001b[39;00m\n\u001b[1;32m      3\u001b[0m \u001b[38;5;66;03m#                                     'interaction':{'hover': True}, # turn on-off the hover                                    \u001b[39;00m\n\u001b[1;32m      4\u001b[0m \u001b[38;5;66;03m#                                    'physics':{'enabled': False}})                     # Estatico\u001b[39;00m\n\u001b[0;32m----> 7\u001b[0m jaal \u001b[38;5;241m=\u001b[39m Jaal(\u001b[43medge_df\u001b[49m, node_df, \n\u001b[1;32m      8\u001b[0m             edge_features\u001b[38;5;241m=\u001b[39m[\u001b[38;5;124m'\u001b[39m\u001b[38;5;124mprotocol\u001b[39m\u001b[38;5;124m'\u001b[39m, \u001b[38;5;124m'\u001b[39m\u001b[38;5;124mconnectionCount\u001b[39m\u001b[38;5;124m'\u001b[39m],  \u001b[38;5;66;03m# For filtering\u001b[39;00m\n\u001b[1;32m      9\u001b[0m             node_features\u001b[38;5;241m=\u001b[39m[\u001b[38;5;124m'\u001b[39m\u001b[38;5;124mgroupType\u001b[39m\u001b[38;5;124m'\u001b[39m, \u001b[38;5;124m'\u001b[39m\u001b[38;5;124mgroupName\u001b[39m\u001b[38;5;124m'\u001b[39m])\n\u001b[1;32m     11\u001b[0m \u001b[38;5;66;03m# Plotting with enhanced interactions\u001b[39;00m\n\u001b[1;32m     12\u001b[0m jaal\u001b[38;5;241m.\u001b[39mplot(vis_opts\u001b[38;5;241m=\u001b[39m{\n\u001b[1;32m     13\u001b[0m     \u001b[38;5;124m'\u001b[39m\u001b[38;5;124mheight\u001b[39m\u001b[38;5;124m'\u001b[39m: \u001b[38;5;124m'\u001b[39m\u001b[38;5;124m600px\u001b[39m\u001b[38;5;124m'\u001b[39m,\n\u001b[1;32m     14\u001b[0m     \u001b[38;5;124m'\u001b[39m\u001b[38;5;124minteraction\u001b[39m\u001b[38;5;124m'\u001b[39m: {\n\u001b[0;32m   (...)\u001b[0m\n\u001b[1;32m     30\u001b[0m search_enabled\u001b[38;5;241m=\u001b[39m\u001b[38;5;28;01mTrue\u001b[39;00m,                       \u001b[38;5;66;03m# Enable node search\u001b[39;00m\n\u001b[1;32m     31\u001b[0m filter_enabled\u001b[38;5;241m=\u001b[39m\u001b[38;5;28;01mTrue\u001b[39;00m)                       \u001b[38;5;66;03m# Enable filtering by features\u001b[39;00m\n",
      "\u001b[0;31mNameError\u001b[0m: name 'edge_df' is not defined"
     ]
    }
   ],
   "source": [
    "#Jaal(df_grouped).plot(port=8071)\n",
    "#Jaal(df_grouped,df_nodes).plot(vis_opts={'height': '600px', # change height\n",
    "#                                     'interaction':{'hover': True}, # turn on-off the hover                                    \n",
    "#                                    'physics':{'enabled': False}})                     # Estatico\n",
    "\n",
    "edge_df = df_grouped[['initiatingDeviceName', 'receivingDeviceName', \n",
    "                      'protocol', 'connectionCount']]\n",
    "\n",
    "edge_df.columns = ['from', 'to', 'protocol', 'connectionCount']  # Rename\n",
    "\n",
    "\n",
    "jaal = Jaal(edge_df, node_df, \n",
    "            edge_features=['protocol', 'connectionCount'],  # For filtering\n",
    "            node_features=['groupType', 'groupName'])\n",
    "\n",
    "# Plotting with enhanced interactions\n",
    "jaal.plot(vis_opts={\n",
    "    'height': '600px',\n",
    "    'interaction': {\n",
    "        'hover': True, \n",
    "        'hoverConnectedEdges': True,    # Highlight connected edges on hover\n",
    "        'selectable': True,\n",
    "        'selectConnectedEdges': True,   # Select connected edges on node click\n",
    "        'multiselect': True             # Allow multiple node/edge selection\n",
    "    },\n",
    "    'physics': {'enabled': False},       # Keep it static\n",
    "    'nodes': { \n",
    "        'shape': 'dot',\n",
    "        'size': 10 \n",
    "    },\n",
    "    'edges': {\n",
    "        'arrows': { 'to': {'enabled': True} }  # Show directionality if applicable\n",
    "    }\n",
    "},\n",
    "search_enabled=True,                       # Enable node search\n",
    "filter_enabled=True)                       # Enable filtering by features\n",
    "\n",
    "# Custom JavaScript Callback for Protocol Filtering (example)\n",
    "jaal.add_js_callback('node_selected', \"\"\"\n",
    "    function(nodes) {\n",
    "        var selectedProtocol = document.getElementById('protocol-filter').value;\n",
    "        var edges = this.body.data.edges;\n",
    "        edges.update(edges.map(edge => {\n",
    "            edge.hidden = (selectedProtocol !== 'all' && edge.protocol !== selectedProtocol);\n",
    "            return edge;\n",
    "        }));\n",
    "    }\n",
    "\"\"\")\n",
    "\n",
    "# Add Protocol Filter Dropdown to the Jaal UI (example)\n",
    "jaal.add_html_element(\"\"\"\n",
    "    <select id=\"protocol-filter\">\n",
    "        <option value=\"all\">All Protocols</option>\n",
    "        <option value=\"TCP\">TCP</option>\n",
    "        <option value=\"UDP\">UDP</option>\n",
    "        <option value=\"ICMP\">ICMP</option>\n",
    "        // ... (add more options for your protocols)\n",
    "    </select>\n",
    "\"\"\")\n",
    "\n"
   ]
  }
 ],
 "metadata": {
  "kernelspec": {
   "display_name": "venv",
   "language": "python",
   "name": "python3"
  },
  "language_info": {
   "codemirror_mode": {
    "name": "ipython",
    "version": 3
   },
   "file_extension": ".py",
   "mimetype": "text/x-python",
   "name": "python",
   "nbconvert_exporter": "python",
   "pygments_lexer": "ipython3",
   "version": "3.11.6"
  }
 },
 "nbformat": 4,
 "nbformat_minor": 2
}

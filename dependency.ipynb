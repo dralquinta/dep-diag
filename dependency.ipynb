{
 "cells": [
  {
   "cell_type": "code",
   "execution_count": 107,
   "metadata": {},
   "outputs": [],
   "source": [
    "import pandas as pd\n",
    "from jaal import Jaal\n",
    "from jaal.datasets import load_got\n",
    "import matplotlib.pyplot as plt"
   ]
  },
  {
   "cell_type": "code",
   "execution_count": 108,
   "metadata": {},
   "outputs": [],
   "source": [
    "sz_file_path = \"./dump.csv\"\n",
    "sz_file_csv = pd.read_csv(sz_file_path,usecols=['initiatingDeviceName','receivingDeviceName', 'connectionCount'],\n",
    "                          header=0,\n",
    "                       \n",
    "                        )"
   ]
  },
  {
   "cell_type": "code",
   "execution_count": 109,
   "metadata": {},
   "outputs": [],
   "source": [
    "df = sz_file_csv.rename(\n",
    "    columns={\n",
    "        \"initiatingDeviceName\": \"from\",\n",
    "        \"receivingDeviceName\": \"to\",\n",
    "        \"connectionCount\": \"weight\"\n",
    "    }\n",
    ")"
   ]
  },
  {
   "cell_type": "code",
   "execution_count": 110,
   "metadata": {},
   "outputs": [],
   "source": [
    "df_grouped = df.groupby(['from','to'], as_index=False)['weight'].sum()"
   ]
  },
  {
   "cell_type": "code",
   "execution_count": 111,
   "metadata": {},
   "outputs": [],
   "source": [
    "df = sz_file_csv.rename(\n",
    "    columns={\n",
    "        \"initiatingDeviceName\": \"id\",\n",
    "        \"receivingDeviceName\": \"to\",\n",
    "        \"connectionCount\": \"weight\",\n",
    "\n",
    "    }\n",
    ")\n",
    "df_nodes = df.groupby(['id'], as_index=False)['weight'].sum()"
   ]
  },
  {
   "cell_type": "code",
   "execution_count": 114,
   "metadata": {},
   "outputs": [
    {
     "name": "stdout",
     "output_type": "stream",
     "text": [
      "Parsing the data...Done\n"
     ]
    },
    {
     "data": {
      "text/html": [
       "\n",
       "        <iframe\n",
       "            width=\"100%\"\n",
       "            height=\"650\"\n",
       "            src=\"http://127.0.0.1:8050/\"\n",
       "            frameborder=\"0\"\n",
       "            allowfullscreen\n",
       "            \n",
       "        ></iframe>\n",
       "        "
      ],
      "text/plain": [
       "<IPython.lib.display.IFrame at 0x12a33a290>"
      ]
     },
     "metadata": {},
     "output_type": "display_data"
    },
    {
     "name": "stdout",
     "output_type": "stream",
     "text": [
      "No trigger\n"
     ]
    }
   ],
   "source": [
    "\n",
    "Jaal(df_grouped,df_nodes).plot(vis_opts={'height': '600px', # change height\n",
    "#                                     'interaction':{'hover': True}, # turn on-off the hover                                    \n",
    "                                    'physics':{'enabled': False}})                     # Estatico\n",
    "\n",
    "\n",
    "\n"
   ]
  }
 ],
 "metadata": {
  "kernelspec": {
   "display_name": "venv",
   "language": "python",
   "name": "python3"
  },
  "language_info": {
   "codemirror_mode": {
    "name": "ipython",
    "version": 3
   },
   "file_extension": ".py",
   "mimetype": "text/x-python",
   "name": "python",
   "nbconvert_exporter": "python",
   "pygments_lexer": "ipython3",
   "version": "3.11.6"
  }
 },
 "nbformat": 4,
 "nbformat_minor": 2
}

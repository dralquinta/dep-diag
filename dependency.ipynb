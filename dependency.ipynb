{
 "cells": [
  {
   "cell_type": "code",
   "execution_count": 125,
   "metadata": {},
   "outputs": [],
   "source": [
    "import pandas as pd\n",
    "from jaal import Jaal"
   ]
  },
  {
   "cell_type": "code",
   "execution_count": 126,
   "metadata": {},
   "outputs": [],
   "source": [
    "sz_file_path = \"./dump.csv\"\n",
    "sz_file_csv = pd.read_csv(sz_file_path, usecols=[\n",
    "    'initiatingDeviceName', 'receivingDeviceName', 'connectionCount'], header=0)"
   ]
  },
  {
   "cell_type": "code",
   "execution_count": 127,
   "metadata": {},
   "outputs": [],
   "source": [
    "# Rename columns for edges\n",
    "df_edges = sz_file_csv.rename(columns={\n",
    "    \"initiatingDeviceName\": \"from\",\n",
    "    \"receivingDeviceName\": \"to\",\n",
    "    \"connectionCount\": \"weight\"\n",
    "})"
   ]
  },
  {
   "cell_type": "code",
   "execution_count": 128,
   "metadata": {},
   "outputs": [],
   "source": [
    "# Ensure 'from' and 'to' columns are strings\n",
    "df_edges['from'] = df_edges['from'].astype(str)\n",
    "df_edges['to'] = df_edges['to'].astype(str)\n",
    "\n",
    "# Group by 'from' and 'to' to aggregate connection counts\n",
    "df_grouped = df_edges.groupby(['from', 'to'], as_index=False)['weight'].sum()\n",
    "\n",
    "# Create nodes dataframe from 'from' and 'to' columns\n",
    "source_nodes = df_edges[['from']].rename(columns={'from': 'id'})\n",
    "target_nodes = df_edges[['to']].rename(columns={'to': 'id'})\n",
    "all_nodes = pd.concat([source_nodes, target_nodes]).drop_duplicates().reset_index(drop=True)\n",
    "\n",
    "# Add additional attributes for nodes\n",
    "all_nodes['label'] = all_nodes['id']\n",
    "all_nodes['group'] = 'Group1'  # Example group, you can customize it as needed\n",
    "\n",
    "# Create a node weight dataframe\n",
    "node_weights = df_edges.groupby('from', as_index=False)['weight'].sum()\n",
    "node_weights.columns = ['id', 'weight']\n",
    "\n",
    "# Merge node weights with the all_nodes dataframe\n",
    "df_nodes = all_nodes.merge(node_weights, on='id', how='left').fillna(1)\n",
    "\n",
    "# Customize the edges with tooltips\n",
    "df_grouped['title'] = df_grouped.apply(\n",
    "    lambda row: f\"Connection Count: {row['weight']}\", axis=1)"
   ]
  },
  {
   "cell_type": "code",
   "execution_count": 129,
   "metadata": {},
   "outputs": [
    {
     "name": "stdout",
     "output_type": "stream",
     "text": [
      "Parsing the data...Done\n"
     ]
    },
    {
     "data": {
      "text/html": [
       "\n",
       "        <iframe\n",
       "            width=\"100%\"\n",
       "            height=\"650\"\n",
       "            src=\"http://127.0.0.1:8050/\"\n",
       "            frameborder=\"0\"\n",
       "            allowfullscreen\n",
       "            \n",
       "        ></iframe>\n",
       "        "
      ],
      "text/plain": [
       "<IPython.lib.display.IFrame at 0x12a076290>"
      ]
     },
     "metadata": {},
     "output_type": "display_data"
    },
    {
     "name": "stdout",
     "output_type": "stream",
     "text": [
      "No trigger\n"
     ]
    }
   ],
   "source": [
    "\n",
    "# Define Jaal visualization options\n",
    "vis_opts = {\n",
    "    'height': '1000px',\n",
    "    'physics': {\n",
    "        'enabled': False\n",
    "    }\n",
    "}\n",
    "\n",
    "# Initialize and plot using Jaal\n",
    "Jaal(df_grouped, df_nodes).plot(vis_opts=vis_opts)"
   ]
  }
 ],
 "metadata": {
  "kernelspec": {
   "display_name": "venv",
   "language": "python",
   "name": "python3"
  },
  "language_info": {
   "codemirror_mode": {
    "name": "ipython",
    "version": 3
   },
   "file_extension": ".py",
   "mimetype": "text/x-python",
   "name": "python",
   "nbconvert_exporter": "python",
   "pygments_lexer": "ipython3",
   "version": "3.11.6"
  }
 },
 "nbformat": 4,
 "nbformat_minor": 2
}
